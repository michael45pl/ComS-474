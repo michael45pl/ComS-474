{
 "cells": [
  {
   "cell_type": "markdown",
   "metadata": {},
   "source": [
    "### Linear Regression Using Decision Tree and Random Forest"
   ]
  },
  {
   "cell_type": "markdown",
   "metadata": {},
   "source": []
  },
  {
   "cell_type": "markdown",
   "metadata": {},
   "source": [
    "The data set called Highway1 (used by by Carl Hoffstedt in his paper: https://rdrr.io/rforge/alr4/man/Highway1.html) relate the automobile accident rate, in accidents per million vehicle miles to several potential terms. The data include 39 sections of large Highways in the state of Minnesota in 1973. The goal of this analysis is to see how the rate variable are affetcted by some of the variables that are highly correlated with the rate and finding out which ones affect the rate variable the most."
   ]
  },
  {
   "cell_type": "markdown",
   "metadata": {},
   "source": [
    "This data frame contains the following columns:\n",
    "\n",
    "adt - average daily traffic count in thousands\n",
    "\n",
    "trks - truck volume as a percent of the total volume\n",
    "\n",
    "lane - total number of lanes of traffic\n",
    "\n",
    "acpt - number of access points per mile\n",
    "\n",
    "sigs - number of signalized interchanges per mile\n",
    "\n",
    "itg - number of freeway-type interchanges per mile\n",
    "\n",
    "slim - speed limit in 1973\n",
    "\n",
    "len - length of the Highway segment in miles\n",
    "\n",
    "lwid - lane width, in feet\n",
    "\n",
    "shld - width in feet of outer shoulder on the roadway\n",
    "\n",
    "htype - An indicator of the type of roadway or the source of funding for the road; \"mc\" for major collector, \"fai\" for Federal interstate highways, \"pa\" for principal arterial highway, and \"ma\" for major arterial highways\n",
    "\n",
    "rate - 1973 accident rate per million vehicle miles"
   ]
  },
  {
   "cell_type": "code",
   "execution_count": 102,
   "metadata": {},
   "outputs": [],
   "source": [
    "import pandas as pd\n",
    "import numpy as np\n",
    "import matplotlib as mpt\n",
    "import matplotlib.pyplot as plt\n",
    "import seaborn as sns \n",
    "import statsmodels.api as sm"
   ]
  },
  {
   "cell_type": "code",
   "execution_count": 103,
   "metadata": {},
   "outputs": [
    {
     "data": {
      "text/plain": [
       "Index(['Unnamed: 0', 'rate', 'len', 'ADT', 'trks', 'sigs1', 'slim', 'shld',\n",
       "       'lane', 'acpt', 'itg', 'lwid', 'hwy'],\n",
       "      dtype='object')"
      ]
     },
     "execution_count": 103,
     "metadata": {},
     "output_type": "execute_result"
    }
   ],
   "source": [
    "hdata=pd.read_csv('Highway1.csv')\n",
    "hdata.columns"
   ]
  },
  {
   "cell_type": "code",
   "execution_count": 104,
   "metadata": {},
   "outputs": [
    {
     "data": {
      "text/html": [
       "<div>\n",
       "<style scoped>\n",
       "    .dataframe tbody tr th:only-of-type {\n",
       "        vertical-align: middle;\n",
       "    }\n",
       "\n",
       "    .dataframe tbody tr th {\n",
       "        vertical-align: top;\n",
       "    }\n",
       "\n",
       "    .dataframe thead th {\n",
       "        text-align: right;\n",
       "    }\n",
       "</style>\n",
       "<table border=\"1\" class=\"dataframe\">\n",
       "  <thead>\n",
       "    <tr style=\"text-align: right;\">\n",
       "      <th></th>\n",
       "      <th>Unnamed: 0</th>\n",
       "      <th>rate</th>\n",
       "      <th>len</th>\n",
       "      <th>ADT</th>\n",
       "      <th>trks</th>\n",
       "      <th>sigs1</th>\n",
       "      <th>slim</th>\n",
       "      <th>shld</th>\n",
       "      <th>lane</th>\n",
       "      <th>acpt</th>\n",
       "      <th>itg</th>\n",
       "      <th>lwid</th>\n",
       "      <th>hwy</th>\n",
       "    </tr>\n",
       "  </thead>\n",
       "  <tbody>\n",
       "    <tr>\n",
       "      <th>0</th>\n",
       "      <td>1</td>\n",
       "      <td>4.58</td>\n",
       "      <td>4.99</td>\n",
       "      <td>69</td>\n",
       "      <td>8</td>\n",
       "      <td>0.200401</td>\n",
       "      <td>55</td>\n",
       "      <td>10</td>\n",
       "      <td>8</td>\n",
       "      <td>4.6</td>\n",
       "      <td>1.20</td>\n",
       "      <td>12</td>\n",
       "      <td>FAI</td>\n",
       "    </tr>\n",
       "    <tr>\n",
       "      <th>1</th>\n",
       "      <td>2</td>\n",
       "      <td>2.86</td>\n",
       "      <td>16.11</td>\n",
       "      <td>73</td>\n",
       "      <td>8</td>\n",
       "      <td>0.062073</td>\n",
       "      <td>60</td>\n",
       "      <td>10</td>\n",
       "      <td>4</td>\n",
       "      <td>4.4</td>\n",
       "      <td>1.43</td>\n",
       "      <td>12</td>\n",
       "      <td>FAI</td>\n",
       "    </tr>\n",
       "    <tr>\n",
       "      <th>2</th>\n",
       "      <td>3</td>\n",
       "      <td>3.02</td>\n",
       "      <td>9.75</td>\n",
       "      <td>49</td>\n",
       "      <td>10</td>\n",
       "      <td>0.102564</td>\n",
       "      <td>60</td>\n",
       "      <td>10</td>\n",
       "      <td>4</td>\n",
       "      <td>4.7</td>\n",
       "      <td>1.54</td>\n",
       "      <td>12</td>\n",
       "      <td>FAI</td>\n",
       "    </tr>\n",
       "    <tr>\n",
       "      <th>3</th>\n",
       "      <td>4</td>\n",
       "      <td>2.29</td>\n",
       "      <td>10.65</td>\n",
       "      <td>61</td>\n",
       "      <td>13</td>\n",
       "      <td>0.093897</td>\n",
       "      <td>65</td>\n",
       "      <td>10</td>\n",
       "      <td>6</td>\n",
       "      <td>3.8</td>\n",
       "      <td>0.94</td>\n",
       "      <td>12</td>\n",
       "      <td>FAI</td>\n",
       "    </tr>\n",
       "    <tr>\n",
       "      <th>4</th>\n",
       "      <td>5</td>\n",
       "      <td>1.61</td>\n",
       "      <td>20.01</td>\n",
       "      <td>28</td>\n",
       "      <td>12</td>\n",
       "      <td>0.049975</td>\n",
       "      <td>70</td>\n",
       "      <td>10</td>\n",
       "      <td>4</td>\n",
       "      <td>2.2</td>\n",
       "      <td>0.65</td>\n",
       "      <td>12</td>\n",
       "      <td>FAI</td>\n",
       "    </tr>\n",
       "  </tbody>\n",
       "</table>\n",
       "</div>"
      ],
      "text/plain": [
       "   Unnamed: 0  rate    len  ADT  trks     sigs1  slim  shld  lane  acpt   itg  \\\n",
       "0           1  4.58   4.99   69     8  0.200401    55    10     8   4.6  1.20   \n",
       "1           2  2.86  16.11   73     8  0.062073    60    10     4   4.4  1.43   \n",
       "2           3  3.02   9.75   49    10  0.102564    60    10     4   4.7  1.54   \n",
       "3           4  2.29  10.65   61    13  0.093897    65    10     6   3.8  0.94   \n",
       "4           5  1.61  20.01   28    12  0.049975    70    10     4   2.2  0.65   \n",
       "\n",
       "   lwid  hwy  \n",
       "0    12  FAI  \n",
       "1    12  FAI  \n",
       "2    12  FAI  \n",
       "3    12  FAI  \n",
       "4    12  FAI  "
      ]
     },
     "execution_count": 104,
     "metadata": {},
     "output_type": "execute_result"
    }
   ],
   "source": [
    "hdata.head()"
   ]
  },
  {
   "cell_type": "code",
   "execution_count": 105,
   "metadata": {},
   "outputs": [
    {
     "data": {
      "text/plain": [
       "['Unnamed: 0',\n",
       " 'rate',\n",
       " 'len',\n",
       " 'ADT',\n",
       " 'trks',\n",
       " 'sigs1',\n",
       " 'slim',\n",
       " 'shld',\n",
       " 'lane',\n",
       " 'acpt',\n",
       " 'itg',\n",
       " 'lwid',\n",
       " 'hwy']"
      ]
     },
     "execution_count": 105,
     "metadata": {},
     "output_type": "execute_result"
    }
   ],
   "source": [
    "list(hdata.columns)"
   ]
  },
  {
   "cell_type": "code",
   "execution_count": 106,
   "metadata": {},
   "outputs": [
    {
     "data": {
      "text/html": [
       "<div>\n",
       "<style scoped>\n",
       "    .dataframe tbody tr th:only-of-type {\n",
       "        vertical-align: middle;\n",
       "    }\n",
       "\n",
       "    .dataframe tbody tr th {\n",
       "        vertical-align: top;\n",
       "    }\n",
       "\n",
       "    .dataframe thead th {\n",
       "        text-align: right;\n",
       "    }\n",
       "</style>\n",
       "<table border=\"1\" class=\"dataframe\">\n",
       "  <thead>\n",
       "    <tr style=\"text-align: right;\">\n",
       "      <th></th>\n",
       "      <th>Unnamed: 0</th>\n",
       "      <th>rate</th>\n",
       "      <th>len</th>\n",
       "      <th>ADT</th>\n",
       "      <th>trks</th>\n",
       "      <th>sigs1</th>\n",
       "      <th>slim</th>\n",
       "      <th>shld</th>\n",
       "      <th>lane</th>\n",
       "      <th>acpt</th>\n",
       "      <th>itg</th>\n",
       "      <th>lwid</th>\n",
       "      <th>hwy</th>\n",
       "    </tr>\n",
       "  </thead>\n",
       "  <tbody>\n",
       "    <tr>\n",
       "      <th>0</th>\n",
       "      <td>1</td>\n",
       "      <td>4.58</td>\n",
       "      <td>4.99</td>\n",
       "      <td>69</td>\n",
       "      <td>8</td>\n",
       "      <td>0.200401</td>\n",
       "      <td>55</td>\n",
       "      <td>10</td>\n",
       "      <td>8</td>\n",
       "      <td>4.6</td>\n",
       "      <td>1.20</td>\n",
       "      <td>12</td>\n",
       "      <td>FAI</td>\n",
       "    </tr>\n",
       "    <tr>\n",
       "      <th>1</th>\n",
       "      <td>2</td>\n",
       "      <td>2.86</td>\n",
       "      <td>16.11</td>\n",
       "      <td>73</td>\n",
       "      <td>8</td>\n",
       "      <td>0.062073</td>\n",
       "      <td>60</td>\n",
       "      <td>10</td>\n",
       "      <td>4</td>\n",
       "      <td>4.4</td>\n",
       "      <td>1.43</td>\n",
       "      <td>12</td>\n",
       "      <td>FAI</td>\n",
       "    </tr>\n",
       "  </tbody>\n",
       "</table>\n",
       "</div>"
      ],
      "text/plain": [
       "   Unnamed: 0  rate    len  ADT  trks     sigs1  slim  shld  lane  acpt   itg  \\\n",
       "0           1  4.58   4.99   69     8  0.200401    55    10     8   4.6  1.20   \n",
       "1           2  2.86  16.11   73     8  0.062073    60    10     4   4.4  1.43   \n",
       "\n",
       "   lwid  hwy  \n",
       "0    12  FAI  \n",
       "1    12  FAI  "
      ]
     },
     "execution_count": 106,
     "metadata": {},
     "output_type": "execute_result"
    }
   ],
   "source": [
    "hdata.head(2)"
   ]
  },
  {
   "cell_type": "code",
   "execution_count": 107,
   "metadata": {},
   "outputs": [
    {
     "data": {
      "text/html": [
       "<div>\n",
       "<style scoped>\n",
       "    .dataframe tbody tr th:only-of-type {\n",
       "        vertical-align: middle;\n",
       "    }\n",
       "\n",
       "    .dataframe tbody tr th {\n",
       "        vertical-align: top;\n",
       "    }\n",
       "\n",
       "    .dataframe thead th {\n",
       "        text-align: right;\n",
       "    }\n",
       "</style>\n",
       "<table border=\"1\" class=\"dataframe\">\n",
       "  <thead>\n",
       "    <tr style=\"text-align: right;\">\n",
       "      <th></th>\n",
       "      <th>len</th>\n",
       "      <th>ADT</th>\n",
       "      <th>trks</th>\n",
       "      <th>sigs1</th>\n",
       "      <th>slim</th>\n",
       "      <th>shld</th>\n",
       "      <th>lane</th>\n",
       "      <th>acpt</th>\n",
       "      <th>itg</th>\n",
       "      <th>lwid</th>\n",
       "    </tr>\n",
       "  </thead>\n",
       "  <tbody>\n",
       "    <tr>\n",
       "      <th>0</th>\n",
       "      <td>4.99</td>\n",
       "      <td>69</td>\n",
       "      <td>8</td>\n",
       "      <td>0.200401</td>\n",
       "      <td>55</td>\n",
       "      <td>10</td>\n",
       "      <td>8</td>\n",
       "      <td>4.6</td>\n",
       "      <td>1.20</td>\n",
       "      <td>12</td>\n",
       "    </tr>\n",
       "    <tr>\n",
       "      <th>1</th>\n",
       "      <td>16.11</td>\n",
       "      <td>73</td>\n",
       "      <td>8</td>\n",
       "      <td>0.062073</td>\n",
       "      <td>60</td>\n",
       "      <td>10</td>\n",
       "      <td>4</td>\n",
       "      <td>4.4</td>\n",
       "      <td>1.43</td>\n",
       "      <td>12</td>\n",
       "    </tr>\n",
       "    <tr>\n",
       "      <th>2</th>\n",
       "      <td>9.75</td>\n",
       "      <td>49</td>\n",
       "      <td>10</td>\n",
       "      <td>0.102564</td>\n",
       "      <td>60</td>\n",
       "      <td>10</td>\n",
       "      <td>4</td>\n",
       "      <td>4.7</td>\n",
       "      <td>1.54</td>\n",
       "      <td>12</td>\n",
       "    </tr>\n",
       "    <tr>\n",
       "      <th>3</th>\n",
       "      <td>10.65</td>\n",
       "      <td>61</td>\n",
       "      <td>13</td>\n",
       "      <td>0.093897</td>\n",
       "      <td>65</td>\n",
       "      <td>10</td>\n",
       "      <td>6</td>\n",
       "      <td>3.8</td>\n",
       "      <td>0.94</td>\n",
       "      <td>12</td>\n",
       "    </tr>\n",
       "    <tr>\n",
       "      <th>4</th>\n",
       "      <td>20.01</td>\n",
       "      <td>28</td>\n",
       "      <td>12</td>\n",
       "      <td>0.049975</td>\n",
       "      <td>70</td>\n",
       "      <td>10</td>\n",
       "      <td>4</td>\n",
       "      <td>2.2</td>\n",
       "      <td>0.65</td>\n",
       "      <td>12</td>\n",
       "    </tr>\n",
       "  </tbody>\n",
       "</table>\n",
       "</div>"
      ],
      "text/plain": [
       "     len  ADT  trks     sigs1  slim  shld  lane  acpt   itg  lwid\n",
       "0   4.99   69     8  0.200401    55    10     8   4.6  1.20    12\n",
       "1  16.11   73     8  0.062073    60    10     4   4.4  1.43    12\n",
       "2   9.75   49    10  0.102564    60    10     4   4.7  1.54    12\n",
       "3  10.65   61    13  0.093897    65    10     6   3.8  0.94    12\n",
       "4  20.01   28    12  0.049975    70    10     4   2.2  0.65    12"
      ]
     },
     "execution_count": 107,
     "metadata": {},
     "output_type": "execute_result"
    }
   ],
   "source": [
    "cols=list(hdata.columns)\n",
    "x= hdata[cols[2:12]]\n",
    "x.head()"
   ]
  },
  {
   "cell_type": "code",
   "execution_count": 108,
   "metadata": {},
   "outputs": [
    {
     "data": {
      "text/html": [
       "<div>\n",
       "<style scoped>\n",
       "    .dataframe tbody tr th:only-of-type {\n",
       "        vertical-align: middle;\n",
       "    }\n",
       "\n",
       "    .dataframe tbody tr th {\n",
       "        vertical-align: top;\n",
       "    }\n",
       "\n",
       "    .dataframe thead th {\n",
       "        text-align: right;\n",
       "    }\n",
       "</style>\n",
       "<table border=\"1\" class=\"dataframe\">\n",
       "  <thead>\n",
       "    <tr style=\"text-align: right;\">\n",
       "      <th></th>\n",
       "      <th>const</th>\n",
       "      <th>len</th>\n",
       "      <th>ADT</th>\n",
       "      <th>trks</th>\n",
       "      <th>sigs1</th>\n",
       "      <th>slim</th>\n",
       "      <th>shld</th>\n",
       "      <th>lane</th>\n",
       "      <th>acpt</th>\n",
       "      <th>itg</th>\n",
       "      <th>lwid</th>\n",
       "    </tr>\n",
       "  </thead>\n",
       "  <tbody>\n",
       "    <tr>\n",
       "      <th>0</th>\n",
       "      <td>1.0</td>\n",
       "      <td>4.99</td>\n",
       "      <td>69</td>\n",
       "      <td>8</td>\n",
       "      <td>0.200401</td>\n",
       "      <td>55</td>\n",
       "      <td>10</td>\n",
       "      <td>8</td>\n",
       "      <td>4.6</td>\n",
       "      <td>1.20</td>\n",
       "      <td>12</td>\n",
       "    </tr>\n",
       "    <tr>\n",
       "      <th>1</th>\n",
       "      <td>1.0</td>\n",
       "      <td>16.11</td>\n",
       "      <td>73</td>\n",
       "      <td>8</td>\n",
       "      <td>0.062073</td>\n",
       "      <td>60</td>\n",
       "      <td>10</td>\n",
       "      <td>4</td>\n",
       "      <td>4.4</td>\n",
       "      <td>1.43</td>\n",
       "      <td>12</td>\n",
       "    </tr>\n",
       "    <tr>\n",
       "      <th>2</th>\n",
       "      <td>1.0</td>\n",
       "      <td>9.75</td>\n",
       "      <td>49</td>\n",
       "      <td>10</td>\n",
       "      <td>0.102564</td>\n",
       "      <td>60</td>\n",
       "      <td>10</td>\n",
       "      <td>4</td>\n",
       "      <td>4.7</td>\n",
       "      <td>1.54</td>\n",
       "      <td>12</td>\n",
       "    </tr>\n",
       "    <tr>\n",
       "      <th>3</th>\n",
       "      <td>1.0</td>\n",
       "      <td>10.65</td>\n",
       "      <td>61</td>\n",
       "      <td>13</td>\n",
       "      <td>0.093897</td>\n",
       "      <td>65</td>\n",
       "      <td>10</td>\n",
       "      <td>6</td>\n",
       "      <td>3.8</td>\n",
       "      <td>0.94</td>\n",
       "      <td>12</td>\n",
       "    </tr>\n",
       "    <tr>\n",
       "      <th>4</th>\n",
       "      <td>1.0</td>\n",
       "      <td>20.01</td>\n",
       "      <td>28</td>\n",
       "      <td>12</td>\n",
       "      <td>0.049975</td>\n",
       "      <td>70</td>\n",
       "      <td>10</td>\n",
       "      <td>4</td>\n",
       "      <td>2.2</td>\n",
       "      <td>0.65</td>\n",
       "      <td>12</td>\n",
       "    </tr>\n",
       "  </tbody>\n",
       "</table>\n",
       "</div>"
      ],
      "text/plain": [
       "   const    len  ADT  trks     sigs1  slim  shld  lane  acpt   itg  lwid\n",
       "0    1.0   4.99   69     8  0.200401    55    10     8   4.6  1.20    12\n",
       "1    1.0  16.11   73     8  0.062073    60    10     4   4.4  1.43    12\n",
       "2    1.0   9.75   49    10  0.102564    60    10     4   4.7  1.54    12\n",
       "3    1.0  10.65   61    13  0.093897    65    10     6   3.8  0.94    12\n",
       "4    1.0  20.01   28    12  0.049975    70    10     4   2.2  0.65    12"
      ]
     },
     "execution_count": 108,
     "metadata": {},
     "output_type": "execute_result"
    }
   ],
   "source": [
    "X=sm.add_constant(x)\n",
    "y=hdata.rate\n",
    "X.head()"
   ]
  },
  {
   "cell_type": "code",
   "execution_count": 109,
   "metadata": {},
   "outputs": [
    {
     "data": {
      "text/html": [
       "<table class=\"simpletable\">\n",
       "<caption>OLS Regression Results</caption>\n",
       "<tr>\n",
       "  <th>Dep. Variable:</th>          <td>rate</td>       <th>  R-squared:         </th> <td>   0.743</td>\n",
       "</tr>\n",
       "<tr>\n",
       "  <th>Model:</th>                   <td>OLS</td>       <th>  Adj. R-squared:    </th> <td>   0.651</td>\n",
       "</tr>\n",
       "<tr>\n",
       "  <th>Method:</th>             <td>Least Squares</td>  <th>  F-statistic:       </th> <td>   8.080</td>\n",
       "</tr>\n",
       "<tr>\n",
       "  <th>Date:</th>             <td>Mon, 08 Nov 2021</td> <th>  Prob (F-statistic):</th> <td>5.72e-06</td>\n",
       "</tr>\n",
       "<tr>\n",
       "  <th>Time:</th>                 <td>14:17:39</td>     <th>  Log-Likelihood:    </th> <td> -55.125</td>\n",
       "</tr>\n",
       "<tr>\n",
       "  <th>No. Observations:</th>      <td>    39</td>      <th>  AIC:               </th> <td>   132.2</td>\n",
       "</tr>\n",
       "<tr>\n",
       "  <th>Df Residuals:</th>          <td>    28</td>      <th>  BIC:               </th> <td>   150.5</td>\n",
       "</tr>\n",
       "<tr>\n",
       "  <th>Df Model:</th>              <td>    10</td>      <th>                     </th>     <td> </td>   \n",
       "</tr>\n",
       "<tr>\n",
       "  <th>Covariance Type:</th>      <td>nonrobust</td>    <th>                     </th>     <td> </td>   \n",
       "</tr>\n",
       "</table>\n",
       "<table class=\"simpletable\">\n",
       "<tr>\n",
       "    <td></td>       <th>coef</th>     <th>std err</th>      <th>t</th>      <th>P>|t|</th>  <th>[0.025</th>    <th>0.975]</th>  \n",
       "</tr>\n",
       "<tr>\n",
       "  <th>const</th> <td>   12.8175</td> <td>    5.969</td> <td>    2.147</td> <td> 0.041</td> <td>    0.591</td> <td>   25.044</td>\n",
       "</tr>\n",
       "<tr>\n",
       "  <th>len</th>   <td>   -0.0607</td> <td>    0.033</td> <td>   -1.842</td> <td> 0.076</td> <td>   -0.128</td> <td>    0.007</td>\n",
       "</tr>\n",
       "<tr>\n",
       "  <th>ADT</th>   <td>    0.0037</td> <td>    0.032</td> <td>    0.114</td> <td> 0.910</td> <td>   -0.062</td> <td>    0.069</td>\n",
       "</tr>\n",
       "<tr>\n",
       "  <th>trks</th>  <td>   -0.1148</td> <td>    0.103</td> <td>   -1.119</td> <td> 0.272</td> <td>   -0.325</td> <td>    0.095</td>\n",
       "</tr>\n",
       "<tr>\n",
       "  <th>sigs1</th> <td>    0.4053</td> <td>    0.404</td> <td>    1.002</td> <td> 0.325</td> <td>   -0.423</td> <td>    1.233</td>\n",
       "</tr>\n",
       "<tr>\n",
       "  <th>slim</th>  <td>   -0.0593</td> <td>    0.063</td> <td>   -0.947</td> <td> 0.352</td> <td>   -0.188</td> <td>    0.069</td>\n",
       "</tr>\n",
       "<tr>\n",
       "  <th>shld</th>  <td>   -0.0908</td> <td>    0.108</td> <td>   -0.844</td> <td> 0.406</td> <td>   -0.311</td> <td>    0.130</td>\n",
       "</tr>\n",
       "<tr>\n",
       "  <th>lane</th>  <td>    0.0197</td> <td>    0.274</td> <td>    0.072</td> <td> 0.943</td> <td>   -0.542</td> <td>    0.582</td>\n",
       "</tr>\n",
       "<tr>\n",
       "  <th>acpt</th>  <td>    0.0885</td> <td>    0.031</td> <td>    2.858</td> <td> 0.008</td> <td>    0.025</td> <td>    0.152</td>\n",
       "</tr>\n",
       "<tr>\n",
       "  <th>itg</th>   <td>    0.2059</td> <td>    1.135</td> <td>    0.181</td> <td> 0.857</td> <td>   -2.119</td> <td>    2.531</td>\n",
       "</tr>\n",
       "<tr>\n",
       "  <th>lwid</th>  <td>   -0.3867</td> <td>    0.475</td> <td>   -0.815</td> <td> 0.422</td> <td>   -1.359</td> <td>    0.585</td>\n",
       "</tr>\n",
       "</table>\n",
       "<table class=\"simpletable\">\n",
       "<tr>\n",
       "  <th>Omnibus:</th>       <td> 0.400</td> <th>  Durbin-Watson:     </th> <td>   2.537</td>\n",
       "</tr>\n",
       "<tr>\n",
       "  <th>Prob(Omnibus):</th> <td> 0.819</td> <th>  Jarque-Bera (JB):  </th> <td>   0.239</td>\n",
       "</tr>\n",
       "<tr>\n",
       "  <th>Skew:</th>          <td> 0.187</td> <th>  Prob(JB):          </th> <td>   0.887</td>\n",
       "</tr>\n",
       "<tr>\n",
       "  <th>Kurtosis:</th>      <td> 2.913</td> <th>  Cond. No.          </th> <td>2.03e+03</td>\n",
       "</tr>\n",
       "</table><br/><br/>Warnings:<br/>[1] Standard Errors assume that the covariance matrix of the errors is correctly specified.<br/>[2] The condition number is large, 2.03e+03. This might indicate that there are<br/>strong multicollinearity or other numerical problems."
      ],
      "text/plain": [
       "<class 'statsmodels.iolib.summary.Summary'>\n",
       "\"\"\"\n",
       "                            OLS Regression Results                            \n",
       "==============================================================================\n",
       "Dep. Variable:                   rate   R-squared:                       0.743\n",
       "Model:                            OLS   Adj. R-squared:                  0.651\n",
       "Method:                 Least Squares   F-statistic:                     8.080\n",
       "Date:                Mon, 08 Nov 2021   Prob (F-statistic):           5.72e-06\n",
       "Time:                        14:17:39   Log-Likelihood:                -55.125\n",
       "No. Observations:                  39   AIC:                             132.2\n",
       "Df Residuals:                      28   BIC:                             150.5\n",
       "Df Model:                          10                                         \n",
       "Covariance Type:            nonrobust                                         \n",
       "==============================================================================\n",
       "                 coef    std err          t      P>|t|      [0.025      0.975]\n",
       "------------------------------------------------------------------------------\n",
       "const         12.8175      5.969      2.147      0.041       0.591      25.044\n",
       "len           -0.0607      0.033     -1.842      0.076      -0.128       0.007\n",
       "ADT            0.0037      0.032      0.114      0.910      -0.062       0.069\n",
       "trks          -0.1148      0.103     -1.119      0.272      -0.325       0.095\n",
       "sigs1          0.4053      0.404      1.002      0.325      -0.423       1.233\n",
       "slim          -0.0593      0.063     -0.947      0.352      -0.188       0.069\n",
       "shld          -0.0908      0.108     -0.844      0.406      -0.311       0.130\n",
       "lane           0.0197      0.274      0.072      0.943      -0.542       0.582\n",
       "acpt           0.0885      0.031      2.858      0.008       0.025       0.152\n",
       "itg            0.2059      1.135      0.181      0.857      -2.119       2.531\n",
       "lwid          -0.3867      0.475     -0.815      0.422      -1.359       0.585\n",
       "==============================================================================\n",
       "Omnibus:                        0.400   Durbin-Watson:                   2.537\n",
       "Prob(Omnibus):                  0.819   Jarque-Bera (JB):                0.239\n",
       "Skew:                           0.187   Prob(JB):                        0.887\n",
       "Kurtosis:                       2.913   Cond. No.                     2.03e+03\n",
       "==============================================================================\n",
       "\n",
       "Warnings:\n",
       "[1] Standard Errors assume that the covariance matrix of the errors is correctly specified.\n",
       "[2] The condition number is large, 2.03e+03. This might indicate that there are\n",
       "strong multicollinearity or other numerical problems.\n",
       "\"\"\""
      ]
     },
     "execution_count": 109,
     "metadata": {},
     "output_type": "execute_result"
    }
   ],
   "source": [
    "model0=sm.OLS(y,X).fit()\n",
    "model0.summary()"
   ]
  },
  {
   "cell_type": "code",
   "execution_count": 110,
   "metadata": {},
   "outputs": [
    {
     "data": {
      "text/plain": [
       "Index(['len', 'ADT', 'trks', 'sigs1', 'slim', 'shld', 'lane', 'acpt', 'itg',\n",
       "       'lwid'],\n",
       "      dtype='object')"
      ]
     },
     "execution_count": 110,
     "metadata": {},
     "output_type": "execute_result"
    }
   ],
   "source": [
    "x.columns"
   ]
  },
  {
   "cell_type": "code",
   "execution_count": 111,
   "metadata": {},
   "outputs": [
    {
     "data": {
      "text/html": [
       "<div>\n",
       "<style scoped>\n",
       "    .dataframe tbody tr th:only-of-type {\n",
       "        vertical-align: middle;\n",
       "    }\n",
       "\n",
       "    .dataframe tbody tr th {\n",
       "        vertical-align: top;\n",
       "    }\n",
       "\n",
       "    .dataframe thead th {\n",
       "        text-align: right;\n",
       "    }\n",
       "</style>\n",
       "<table border=\"1\" class=\"dataframe\">\n",
       "  <thead>\n",
       "    <tr style=\"text-align: right;\">\n",
       "      <th></th>\n",
       "      <th>len</th>\n",
       "      <th>ADT</th>\n",
       "      <th>trks</th>\n",
       "      <th>sigs1</th>\n",
       "      <th>slim</th>\n",
       "      <th>shld</th>\n",
       "      <th>acpt</th>\n",
       "      <th>itg</th>\n",
       "      <th>lwid</th>\n",
       "    </tr>\n",
       "  </thead>\n",
       "  <tbody>\n",
       "    <tr>\n",
       "      <th>0</th>\n",
       "      <td>4.99</td>\n",
       "      <td>69</td>\n",
       "      <td>8</td>\n",
       "      <td>0.200401</td>\n",
       "      <td>55</td>\n",
       "      <td>10</td>\n",
       "      <td>4.6</td>\n",
       "      <td>1.20</td>\n",
       "      <td>12</td>\n",
       "    </tr>\n",
       "    <tr>\n",
       "      <th>1</th>\n",
       "      <td>16.11</td>\n",
       "      <td>73</td>\n",
       "      <td>8</td>\n",
       "      <td>0.062073</td>\n",
       "      <td>60</td>\n",
       "      <td>10</td>\n",
       "      <td>4.4</td>\n",
       "      <td>1.43</td>\n",
       "      <td>12</td>\n",
       "    </tr>\n",
       "    <tr>\n",
       "      <th>2</th>\n",
       "      <td>9.75</td>\n",
       "      <td>49</td>\n",
       "      <td>10</td>\n",
       "      <td>0.102564</td>\n",
       "      <td>60</td>\n",
       "      <td>10</td>\n",
       "      <td>4.7</td>\n",
       "      <td>1.54</td>\n",
       "      <td>12</td>\n",
       "    </tr>\n",
       "  </tbody>\n",
       "</table>\n",
       "</div>"
      ],
      "text/plain": [
       "     len  ADT  trks     sigs1  slim  shld  acpt   itg  lwid\n",
       "0   4.99   69     8  0.200401    55    10   4.6  1.20    12\n",
       "1  16.11   73     8  0.062073    60    10   4.4  1.43    12\n",
       "2   9.75   49    10  0.102564    60    10   4.7  1.54    12"
      ]
     },
     "execution_count": 111,
     "metadata": {},
     "output_type": "execute_result"
    }
   ],
   "source": [
    "cols1=['len', 'ADT', 'trks', 'sigs1', 'slim', 'shld', 'acpt', 'itg','lwid']\n",
    "x1= hdata[cols1]\n",
    "x1.head(3)"
   ]
  },
  {
   "cell_type": "code",
   "execution_count": 112,
   "metadata": {},
   "outputs": [
    {
     "data": {
      "text/html": [
       "<table class=\"simpletable\">\n",
       "<caption>OLS Regression Results</caption>\n",
       "<tr>\n",
       "  <th>Dep. Variable:</th>          <td>rate</td>       <th>  R-squared:         </th> <td>   0.743</td>\n",
       "</tr>\n",
       "<tr>\n",
       "  <th>Model:</th>                   <td>OLS</td>       <th>  Adj. R-squared:    </th> <td>   0.663</td>\n",
       "</tr>\n",
       "<tr>\n",
       "  <th>Method:</th>             <td>Least Squares</td>  <th>  F-statistic:       </th> <td>   9.296</td>\n",
       "</tr>\n",
       "<tr>\n",
       "  <th>Date:</th>             <td>Mon, 08 Nov 2021</td> <th>  Prob (F-statistic):</th> <td>1.79e-06</td>\n",
       "</tr>\n",
       "<tr>\n",
       "  <th>Time:</th>                 <td>14:17:46</td>     <th>  Log-Likelihood:    </th> <td> -55.128</td>\n",
       "</tr>\n",
       "<tr>\n",
       "  <th>No. Observations:</th>      <td>    39</td>      <th>  AIC:               </th> <td>   130.3</td>\n",
       "</tr>\n",
       "<tr>\n",
       "  <th>Df Residuals:</th>          <td>    29</td>      <th>  BIC:               </th> <td>   146.9</td>\n",
       "</tr>\n",
       "<tr>\n",
       "  <th>Df Model:</th>              <td>     9</td>      <th>                     </th>     <td> </td>   \n",
       "</tr>\n",
       "<tr>\n",
       "  <th>Covariance Type:</th>      <td>nonrobust</td>    <th>                     </th>     <td> </td>   \n",
       "</tr>\n",
       "</table>\n",
       "<table class=\"simpletable\">\n",
       "<tr>\n",
       "    <td></td>       <th>coef</th>     <th>std err</th>      <th>t</th>      <th>P>|t|</th>  <th>[0.025</th>    <th>0.975]</th>  \n",
       "</tr>\n",
       "<tr>\n",
       "  <th>const</th> <td>   12.8342</td> <td>    5.861</td> <td>    2.190</td> <td> 0.037</td> <td>    0.847</td> <td>   24.822</td>\n",
       "</tr>\n",
       "<tr>\n",
       "  <th>len</th>   <td>   -0.0603</td> <td>    0.032</td> <td>   -1.884</td> <td> 0.070</td> <td>   -0.126</td> <td>    0.005</td>\n",
       "</tr>\n",
       "<tr>\n",
       "  <th>ADT</th>   <td>    0.0049</td> <td>    0.026</td> <td>    0.187</td> <td> 0.853</td> <td>   -0.049</td> <td>    0.059</td>\n",
       "</tr>\n",
       "<tr>\n",
       "  <th>trks</th>  <td>   -0.1156</td> <td>    0.100</td> <td>   -1.153</td> <td> 0.258</td> <td>   -0.321</td> <td>    0.089</td>\n",
       "</tr>\n",
       "<tr>\n",
       "  <th>sigs1</th> <td>    0.4142</td> <td>    0.378</td> <td>    1.096</td> <td> 0.282</td> <td>   -0.359</td> <td>    1.187</td>\n",
       "</tr>\n",
       "<tr>\n",
       "  <th>slim</th>  <td>   -0.0590</td> <td>    0.061</td> <td>   -0.961</td> <td> 0.344</td> <td>   -0.185</td> <td>    0.067</td>\n",
       "</tr>\n",
       "<tr>\n",
       "  <th>shld</th>  <td>   -0.0899</td> <td>    0.105</td> <td>   -0.856</td> <td> 0.399</td> <td>   -0.305</td> <td>    0.125</td>\n",
       "</tr>\n",
       "<tr>\n",
       "  <th>acpt</th>  <td>    0.0883</td> <td>    0.030</td> <td>    2.914</td> <td> 0.007</td> <td>    0.026</td> <td>    0.150</td>\n",
       "</tr>\n",
       "<tr>\n",
       "  <th>itg</th>   <td>    0.1955</td> <td>    1.106</td> <td>    0.177</td> <td> 0.861</td> <td>   -2.067</td> <td>    2.458</td>\n",
       "</tr>\n",
       "<tr>\n",
       "  <th>lwid</th>  <td>   -0.3866</td> <td>    0.466</td> <td>   -0.829</td> <td> 0.414</td> <td>   -1.340</td> <td>    0.567</td>\n",
       "</tr>\n",
       "</table>\n",
       "<table class=\"simpletable\">\n",
       "<tr>\n",
       "  <th>Omnibus:</th>       <td> 0.374</td> <th>  Durbin-Watson:     </th> <td>   2.544</td>\n",
       "</tr>\n",
       "<tr>\n",
       "  <th>Prob(Omnibus):</th> <td> 0.830</td> <th>  Jarque-Bera (JB):  </th> <td>   0.244</td>\n",
       "</tr>\n",
       "<tr>\n",
       "  <th>Skew:</th>          <td> 0.186</td> <th>  Prob(JB):          </th> <td>   0.885</td>\n",
       "</tr>\n",
       "<tr>\n",
       "  <th>Kurtosis:</th>      <td> 2.890</td> <th>  Cond. No.          </th> <td>2.03e+03</td>\n",
       "</tr>\n",
       "</table><br/><br/>Warnings:<br/>[1] Standard Errors assume that the covariance matrix of the errors is correctly specified.<br/>[2] The condition number is large, 2.03e+03. This might indicate that there are<br/>strong multicollinearity or other numerical problems."
      ],
      "text/plain": [
       "<class 'statsmodels.iolib.summary.Summary'>\n",
       "\"\"\"\n",
       "                            OLS Regression Results                            \n",
       "==============================================================================\n",
       "Dep. Variable:                   rate   R-squared:                       0.743\n",
       "Model:                            OLS   Adj. R-squared:                  0.663\n",
       "Method:                 Least Squares   F-statistic:                     9.296\n",
       "Date:                Mon, 08 Nov 2021   Prob (F-statistic):           1.79e-06\n",
       "Time:                        14:17:46   Log-Likelihood:                -55.128\n",
       "No. Observations:                  39   AIC:                             130.3\n",
       "Df Residuals:                      29   BIC:                             146.9\n",
       "Df Model:                           9                                         \n",
       "Covariance Type:            nonrobust                                         \n",
       "==============================================================================\n",
       "                 coef    std err          t      P>|t|      [0.025      0.975]\n",
       "------------------------------------------------------------------------------\n",
       "const         12.8342      5.861      2.190      0.037       0.847      24.822\n",
       "len           -0.0603      0.032     -1.884      0.070      -0.126       0.005\n",
       "ADT            0.0049      0.026      0.187      0.853      -0.049       0.059\n",
       "trks          -0.1156      0.100     -1.153      0.258      -0.321       0.089\n",
       "sigs1          0.4142      0.378      1.096      0.282      -0.359       1.187\n",
       "slim          -0.0590      0.061     -0.961      0.344      -0.185       0.067\n",
       "shld          -0.0899      0.105     -0.856      0.399      -0.305       0.125\n",
       "acpt           0.0883      0.030      2.914      0.007       0.026       0.150\n",
       "itg            0.1955      1.106      0.177      0.861      -2.067       2.458\n",
       "lwid          -0.3866      0.466     -0.829      0.414      -1.340       0.567\n",
       "==============================================================================\n",
       "Omnibus:                        0.374   Durbin-Watson:                   2.544\n",
       "Prob(Omnibus):                  0.830   Jarque-Bera (JB):                0.244\n",
       "Skew:                           0.186   Prob(JB):                        0.885\n",
       "Kurtosis:                       2.890   Cond. No.                     2.03e+03\n",
       "==============================================================================\n",
       "\n",
       "Warnings:\n",
       "[1] Standard Errors assume that the covariance matrix of the errors is correctly specified.\n",
       "[2] The condition number is large, 2.03e+03. This might indicate that there are\n",
       "strong multicollinearity or other numerical problems.\n",
       "\"\"\""
      ]
     },
     "execution_count": 112,
     "metadata": {},
     "output_type": "execute_result"
    }
   ],
   "source": [
    "X1=sm.add_constant(x1)\n",
    "model1=sm.OLS(y,X1).fit()\n",
    "model1.summary()"
   ]
  },
  {
   "cell_type": "code",
   "execution_count": 113,
   "metadata": {},
   "outputs": [
    {
     "data": {
      "text/html": [
       "<table class=\"simpletable\">\n",
       "<caption>OLS Regression Results</caption>\n",
       "<tr>\n",
       "  <th>Dep. Variable:</th>          <td>rate</td>       <th>  R-squared:         </th> <td>   0.742</td>\n",
       "</tr>\n",
       "<tr>\n",
       "  <th>Model:</th>                   <td>OLS</td>       <th>  Adj. R-squared:    </th> <td>   0.674</td>\n",
       "</tr>\n",
       "<tr>\n",
       "  <th>Method:</th>             <td>Least Squares</td>  <th>  F-statistic:       </th> <td>   10.80</td>\n",
       "</tr>\n",
       "<tr>\n",
       "  <th>Date:</th>             <td>Mon, 08 Nov 2021</td> <th>  Prob (F-statistic):</th> <td>5.23e-07</td>\n",
       "</tr>\n",
       "<tr>\n",
       "  <th>Time:</th>                 <td>14:17:47</td>     <th>  Log-Likelihood:    </th> <td> -55.149</td>\n",
       "</tr>\n",
       "<tr>\n",
       "  <th>No. Observations:</th>      <td>    39</td>      <th>  AIC:               </th> <td>   128.3</td>\n",
       "</tr>\n",
       "<tr>\n",
       "  <th>Df Residuals:</th>          <td>    30</td>      <th>  BIC:               </th> <td>   143.3</td>\n",
       "</tr>\n",
       "<tr>\n",
       "  <th>Df Model:</th>              <td>     8</td>      <th>                     </th>     <td> </td>   \n",
       "</tr>\n",
       "<tr>\n",
       "  <th>Covariance Type:</th>      <td>nonrobust</td>    <th>                     </th>     <td> </td>   \n",
       "</tr>\n",
       "</table>\n",
       "<table class=\"simpletable\">\n",
       "<tr>\n",
       "    <td></td>       <th>coef</th>     <th>std err</th>      <th>t</th>      <th>P>|t|</th>  <th>[0.025</th>    <th>0.975]</th>  \n",
       "</tr>\n",
       "<tr>\n",
       "  <th>const</th> <td>   12.8462</td> <td>    5.765</td> <td>    2.228</td> <td> 0.034</td> <td>    1.072</td> <td>   24.621</td>\n",
       "</tr>\n",
       "<tr>\n",
       "  <th>len</th>   <td>   -0.0609</td> <td>    0.031</td> <td>   -1.945</td> <td> 0.061</td> <td>   -0.125</td> <td>    0.003</td>\n",
       "</tr>\n",
       "<tr>\n",
       "  <th>ADT</th>   <td>    0.0091</td> <td>    0.012</td> <td>    0.751</td> <td> 0.458</td> <td>   -0.016</td> <td>    0.034</td>\n",
       "</tr>\n",
       "<tr>\n",
       "  <th>trks</th>  <td>   -0.1159</td> <td>    0.099</td> <td>   -1.176</td> <td> 0.249</td> <td>   -0.317</td> <td>    0.085</td>\n",
       "</tr>\n",
       "<tr>\n",
       "  <th>sigs1</th> <td>    0.4040</td> <td>    0.368</td> <td>    1.099</td> <td> 0.280</td> <td>   -0.347</td> <td>    1.155</td>\n",
       "</tr>\n",
       "<tr>\n",
       "  <th>slim</th>  <td>   -0.0571</td> <td>    0.059</td> <td>   -0.961</td> <td> 0.344</td> <td>   -0.179</td> <td>    0.064</td>\n",
       "</tr>\n",
       "<tr>\n",
       "  <th>shld</th>  <td>   -0.0938</td> <td>    0.101</td> <td>   -0.929</td> <td> 0.360</td> <td>   -0.300</td> <td>    0.112</td>\n",
       "</tr>\n",
       "<tr>\n",
       "  <th>acpt</th>  <td>    0.0889</td> <td>    0.030</td> <td>    3.003</td> <td> 0.005</td> <td>    0.028</td> <td>    0.149</td>\n",
       "</tr>\n",
       "<tr>\n",
       "  <th>lwid</th>  <td>   -0.3955</td> <td>    0.456</td> <td>   -0.867</td> <td> 0.393</td> <td>   -1.327</td> <td>    0.536</td>\n",
       "</tr>\n",
       "</table>\n",
       "<table class=\"simpletable\">\n",
       "<tr>\n",
       "  <th>Omnibus:</th>       <td> 0.446</td> <th>  Durbin-Watson:     </th> <td>   2.555</td>\n",
       "</tr>\n",
       "<tr>\n",
       "  <th>Prob(Omnibus):</th> <td> 0.800</td> <th>  Jarque-Bera (JB):  </th> <td>   0.272</td>\n",
       "</tr>\n",
       "<tr>\n",
       "  <th>Skew:</th>          <td> 0.200</td> <th>  Prob(JB):          </th> <td>   0.873</td>\n",
       "</tr>\n",
       "<tr>\n",
       "  <th>Kurtosis:</th>      <td> 2.915</td> <th>  Cond. No.          </th> <td>2.03e+03</td>\n",
       "</tr>\n",
       "</table><br/><br/>Warnings:<br/>[1] Standard Errors assume that the covariance matrix of the errors is correctly specified.<br/>[2] The condition number is large, 2.03e+03. This might indicate that there are<br/>strong multicollinearity or other numerical problems."
      ],
      "text/plain": [
       "<class 'statsmodels.iolib.summary.Summary'>\n",
       "\"\"\"\n",
       "                            OLS Regression Results                            \n",
       "==============================================================================\n",
       "Dep. Variable:                   rate   R-squared:                       0.742\n",
       "Model:                            OLS   Adj. R-squared:                  0.674\n",
       "Method:                 Least Squares   F-statistic:                     10.80\n",
       "Date:                Mon, 08 Nov 2021   Prob (F-statistic):           5.23e-07\n",
       "Time:                        14:17:47   Log-Likelihood:                -55.149\n",
       "No. Observations:                  39   AIC:                             128.3\n",
       "Df Residuals:                      30   BIC:                             143.3\n",
       "Df Model:                           8                                         \n",
       "Covariance Type:            nonrobust                                         \n",
       "==============================================================================\n",
       "                 coef    std err          t      P>|t|      [0.025      0.975]\n",
       "------------------------------------------------------------------------------\n",
       "const         12.8462      5.765      2.228      0.034       1.072      24.621\n",
       "len           -0.0609      0.031     -1.945      0.061      -0.125       0.003\n",
       "ADT            0.0091      0.012      0.751      0.458      -0.016       0.034\n",
       "trks          -0.1159      0.099     -1.176      0.249      -0.317       0.085\n",
       "sigs1          0.4040      0.368      1.099      0.280      -0.347       1.155\n",
       "slim          -0.0571      0.059     -0.961      0.344      -0.179       0.064\n",
       "shld          -0.0938      0.101     -0.929      0.360      -0.300       0.112\n",
       "acpt           0.0889      0.030      3.003      0.005       0.028       0.149\n",
       "lwid          -0.3955      0.456     -0.867      0.393      -1.327       0.536\n",
       "==============================================================================\n",
       "Omnibus:                        0.446   Durbin-Watson:                   2.555\n",
       "Prob(Omnibus):                  0.800   Jarque-Bera (JB):                0.272\n",
       "Skew:                           0.200   Prob(JB):                        0.873\n",
       "Kurtosis:                       2.915   Cond. No.                     2.03e+03\n",
       "==============================================================================\n",
       "\n",
       "Warnings:\n",
       "[1] Standard Errors assume that the covariance matrix of the errors is correctly specified.\n",
       "[2] The condition number is large, 2.03e+03. This might indicate that there are\n",
       "strong multicollinearity or other numerical problems.\n",
       "\"\"\""
      ]
     },
     "execution_count": 113,
     "metadata": {},
     "output_type": "execute_result"
    }
   ],
   "source": [
    "x2= x1[['len', 'ADT', 'trks', 'sigs1', 'slim', 'shld', 'acpt','lwid']]\n",
    "X2=sm.add_constant(x2)\n",
    "model2=sm.OLS(y,X2).fit()\n",
    "model2.summary()"
   ]
  },
  {
   "cell_type": "code",
   "execution_count": 114,
   "metadata": {},
   "outputs": [
    {
     "data": {
      "text/html": [
       "<table class=\"simpletable\">\n",
       "<caption>OLS Regression Results</caption>\n",
       "<tr>\n",
       "  <th>Dep. Variable:</th>          <td>rate</td>       <th>  R-squared:         </th> <td>   0.737</td>\n",
       "</tr>\n",
       "<tr>\n",
       "  <th>Model:</th>                   <td>OLS</td>       <th>  Adj. R-squared:    </th> <td>   0.678</td>\n",
       "</tr>\n",
       "<tr>\n",
       "  <th>Method:</th>             <td>Least Squares</td>  <th>  F-statistic:       </th> <td>   12.44</td>\n",
       "</tr>\n",
       "<tr>\n",
       "  <th>Date:</th>             <td>Mon, 08 Nov 2021</td> <th>  Prob (F-statistic):</th> <td>1.82e-07</td>\n",
       "</tr>\n",
       "<tr>\n",
       "  <th>Time:</th>                 <td>14:17:47</td>     <th>  Log-Likelihood:    </th> <td> -55.513</td>\n",
       "</tr>\n",
       "<tr>\n",
       "  <th>No. Observations:</th>      <td>    39</td>      <th>  AIC:               </th> <td>   127.0</td>\n",
       "</tr>\n",
       "<tr>\n",
       "  <th>Df Residuals:</th>          <td>    31</td>      <th>  BIC:               </th> <td>   140.3</td>\n",
       "</tr>\n",
       "<tr>\n",
       "  <th>Df Model:</th>              <td>     7</td>      <th>                     </th>     <td> </td>   \n",
       "</tr>\n",
       "<tr>\n",
       "  <th>Covariance Type:</th>      <td>nonrobust</td>    <th>                     </th>     <td> </td>   \n",
       "</tr>\n",
       "</table>\n",
       "<table class=\"simpletable\">\n",
       "<tr>\n",
       "    <td></td>       <th>coef</th>     <th>std err</th>      <th>t</th>      <th>P>|t|</th>  <th>[0.025</th>    <th>0.975]</th>  \n",
       "</tr>\n",
       "<tr>\n",
       "  <th>const</th> <td>   12.6986</td> <td>    5.721</td> <td>    2.219</td> <td> 0.034</td> <td>    1.030</td> <td>   24.367</td>\n",
       "</tr>\n",
       "<tr>\n",
       "  <th>len</th>   <td>   -0.0645</td> <td>    0.031</td> <td>   -2.098</td> <td> 0.044</td> <td>   -0.127</td> <td>   -0.002</td>\n",
       "</tr>\n",
       "<tr>\n",
       "  <th>trks</th>  <td>   -0.1114</td> <td>    0.098</td> <td>   -1.140</td> <td> 0.263</td> <td>   -0.311</td> <td>    0.088</td>\n",
       "</tr>\n",
       "<tr>\n",
       "  <th>sigs1</th> <td>    0.4680</td> <td>    0.355</td> <td>    1.319</td> <td> 0.197</td> <td>   -0.256</td> <td>    1.192</td>\n",
       "</tr>\n",
       "<tr>\n",
       "  <th>slim</th>  <td>   -0.0615</td> <td>    0.059</td> <td>   -1.046</td> <td> 0.304</td> <td>   -0.181</td> <td>    0.058</td>\n",
       "</tr>\n",
       "<tr>\n",
       "  <th>shld</th>  <td>   -0.0680</td> <td>    0.094</td> <td>   -0.721</td> <td> 0.476</td> <td>   -0.260</td> <td>    0.124</td>\n",
       "</tr>\n",
       "<tr>\n",
       "  <th>acpt</th>  <td>    0.0840</td> <td>    0.029</td> <td>    2.929</td> <td> 0.006</td> <td>    0.026</td> <td>    0.142</td>\n",
       "</tr>\n",
       "<tr>\n",
       "  <th>lwid</th>  <td>   -0.3603</td> <td>    0.450</td> <td>   -0.800</td> <td> 0.430</td> <td>   -1.279</td> <td>    0.558</td>\n",
       "</tr>\n",
       "</table>\n",
       "<table class=\"simpletable\">\n",
       "<tr>\n",
       "  <th>Omnibus:</th>       <td> 0.122</td> <th>  Durbin-Watson:     </th> <td>   2.419</td>\n",
       "</tr>\n",
       "<tr>\n",
       "  <th>Prob(Omnibus):</th> <td> 0.941</td> <th>  Jarque-Bera (JB):  </th> <td>   0.229</td>\n",
       "</tr>\n",
       "<tr>\n",
       "  <th>Skew:</th>          <td> 0.120</td> <th>  Prob(JB):          </th> <td>   0.892</td>\n",
       "</tr>\n",
       "<tr>\n",
       "  <th>Kurtosis:</th>      <td> 2.711</td> <th>  Cond. No.          </th> <td>1.92e+03</td>\n",
       "</tr>\n",
       "</table><br/><br/>Warnings:<br/>[1] Standard Errors assume that the covariance matrix of the errors is correctly specified.<br/>[2] The condition number is large, 1.92e+03. This might indicate that there are<br/>strong multicollinearity or other numerical problems."
      ],
      "text/plain": [
       "<class 'statsmodels.iolib.summary.Summary'>\n",
       "\"\"\"\n",
       "                            OLS Regression Results                            \n",
       "==============================================================================\n",
       "Dep. Variable:                   rate   R-squared:                       0.737\n",
       "Model:                            OLS   Adj. R-squared:                  0.678\n",
       "Method:                 Least Squares   F-statistic:                     12.44\n",
       "Date:                Mon, 08 Nov 2021   Prob (F-statistic):           1.82e-07\n",
       "Time:                        14:17:47   Log-Likelihood:                -55.513\n",
       "No. Observations:                  39   AIC:                             127.0\n",
       "Df Residuals:                      31   BIC:                             140.3\n",
       "Df Model:                           7                                         \n",
       "Covariance Type:            nonrobust                                         \n",
       "==============================================================================\n",
       "                 coef    std err          t      P>|t|      [0.025      0.975]\n",
       "------------------------------------------------------------------------------\n",
       "const         12.6986      5.721      2.219      0.034       1.030      24.367\n",
       "len           -0.0645      0.031     -2.098      0.044      -0.127      -0.002\n",
       "trks          -0.1114      0.098     -1.140      0.263      -0.311       0.088\n",
       "sigs1          0.4680      0.355      1.319      0.197      -0.256       1.192\n",
       "slim          -0.0615      0.059     -1.046      0.304      -0.181       0.058\n",
       "shld          -0.0680      0.094     -0.721      0.476      -0.260       0.124\n",
       "acpt           0.0840      0.029      2.929      0.006       0.026       0.142\n",
       "lwid          -0.3603      0.450     -0.800      0.430      -1.279       0.558\n",
       "==============================================================================\n",
       "Omnibus:                        0.122   Durbin-Watson:                   2.419\n",
       "Prob(Omnibus):                  0.941   Jarque-Bera (JB):                0.229\n",
       "Skew:                           0.120   Prob(JB):                        0.892\n",
       "Kurtosis:                       2.711   Cond. No.                     1.92e+03\n",
       "==============================================================================\n",
       "\n",
       "Warnings:\n",
       "[1] Standard Errors assume that the covariance matrix of the errors is correctly specified.\n",
       "[2] The condition number is large, 1.92e+03. This might indicate that there are\n",
       "strong multicollinearity or other numerical problems.\n",
       "\"\"\""
      ]
     },
     "execution_count": 114,
     "metadata": {},
     "output_type": "execute_result"
    }
   ],
   "source": [
    "x3= x2[['len', 'trks', 'sigs1', 'slim', 'shld', 'acpt','lwid']]\n",
    "X3=sm.add_constant(x3)\n",
    "model3=sm.OLS(y,X3).fit()\n",
    "model3.summary()"
   ]
  },
  {
   "cell_type": "markdown",
   "metadata": {},
   "source": [
    "Continue this process until you have only the variabe with ap value of <0.10."
   ]
  },
  {
   "cell_type": "code",
   "execution_count": 115,
   "metadata": {},
   "outputs": [
    {
     "data": {
      "text/html": [
       "<div>\n",
       "<style scoped>\n",
       "    .dataframe tbody tr th:only-of-type {\n",
       "        vertical-align: middle;\n",
       "    }\n",
       "\n",
       "    .dataframe tbody tr th {\n",
       "        vertical-align: top;\n",
       "    }\n",
       "\n",
       "    .dataframe thead th {\n",
       "        text-align: right;\n",
       "    }\n",
       "</style>\n",
       "<table border=\"1\" class=\"dataframe\">\n",
       "  <thead>\n",
       "    <tr style=\"text-align: right;\">\n",
       "      <th></th>\n",
       "      <th>Unnamed: 0</th>\n",
       "      <th>rate</th>\n",
       "      <th>len</th>\n",
       "      <th>ADT</th>\n",
       "      <th>trks</th>\n",
       "      <th>sigs1</th>\n",
       "      <th>slim</th>\n",
       "      <th>shld</th>\n",
       "      <th>lane</th>\n",
       "      <th>acpt</th>\n",
       "      <th>itg</th>\n",
       "      <th>lwid</th>\n",
       "    </tr>\n",
       "  </thead>\n",
       "  <tbody>\n",
       "    <tr>\n",
       "      <th>Unnamed: 0</th>\n",
       "      <td>1.000000</td>\n",
       "      <td>0.032470</td>\n",
       "      <td>0.362779</td>\n",
       "      <td>-0.846241</td>\n",
       "      <td>0.104887</td>\n",
       "      <td>-0.286362</td>\n",
       "      <td>-0.292009</td>\n",
       "      <td>-0.591370</td>\n",
       "      <td>-0.773467</td>\n",
       "      <td>0.281647</td>\n",
       "      <td>-0.726426</td>\n",
       "      <td>-0.227827</td>\n",
       "    </tr>\n",
       "    <tr>\n",
       "      <th>rate</th>\n",
       "      <td>0.032470</td>\n",
       "      <td>1.000000</td>\n",
       "      <td>-0.465290</td>\n",
       "      <td>-0.028570</td>\n",
       "      <td>-0.512522</td>\n",
       "      <td>0.603191</td>\n",
       "      <td>-0.680984</td>\n",
       "      <td>-0.386907</td>\n",
       "      <td>-0.032979</td>\n",
       "      <td>0.752025</td>\n",
       "      <td>-0.024841</td>\n",
       "      <td>-0.005619</td>\n",
       "    </tr>\n",
       "    <tr>\n",
       "      <th>len</th>\n",
       "      <td>0.362779</td>\n",
       "      <td>-0.465290</td>\n",
       "      <td>1.000000</td>\n",
       "      <td>-0.271569</td>\n",
       "      <td>0.495943</td>\n",
       "      <td>-0.391851</td>\n",
       "      <td>0.186243</td>\n",
       "      <td>-0.104926</td>\n",
       "      <td>-0.202504</td>\n",
       "      <td>-0.238706</td>\n",
       "      <td>-0.247562</td>\n",
       "      <td>-0.310650</td>\n",
       "    </tr>\n",
       "    <tr>\n",
       "      <th>ADT</th>\n",
       "      <td>-0.846241</td>\n",
       "      <td>-0.028570</td>\n",
       "      <td>-0.271569</td>\n",
       "      <td>1.000000</td>\n",
       "      <td>-0.096682</td>\n",
       "      <td>0.159381</td>\n",
       "      <td>0.244157</td>\n",
       "      <td>0.457307</td>\n",
       "      <td>0.823930</td>\n",
       "      <td>-0.223980</td>\n",
       "      <td>0.903701</td>\n",
       "      <td>0.127878</td>\n",
       "    </tr>\n",
       "    <tr>\n",
       "      <th>trks</th>\n",
       "      <td>0.104887</td>\n",
       "      <td>-0.512522</td>\n",
       "      <td>0.495943</td>\n",
       "      <td>-0.096682</td>\n",
       "      <td>1.000000</td>\n",
       "      <td>-0.475308</td>\n",
       "      <td>0.296184</td>\n",
       "      <td>0.006135</td>\n",
       "      <td>-0.153324</td>\n",
       "      <td>-0.360266</td>\n",
       "      <td>-0.067231</td>\n",
       "      <td>-0.155271</td>\n",
       "    </tr>\n",
       "    <tr>\n",
       "      <th>sigs1</th>\n",
       "      <td>-0.286362</td>\n",
       "      <td>0.603191</td>\n",
       "      <td>-0.391851</td>\n",
       "      <td>0.159381</td>\n",
       "      <td>-0.475308</td>\n",
       "      <td>1.000000</td>\n",
       "      <td>-0.424415</td>\n",
       "      <td>-0.124103</td>\n",
       "      <td>0.263967</td>\n",
       "      <td>0.513461</td>\n",
       "      <td>0.087017</td>\n",
       "      <td>0.062084</td>\n",
       "    </tr>\n",
       "    <tr>\n",
       "      <th>slim</th>\n",
       "      <td>-0.292009</td>\n",
       "      <td>-0.680984</td>\n",
       "      <td>0.186243</td>\n",
       "      <td>0.244157</td>\n",
       "      <td>0.296184</td>\n",
       "      <td>-0.424415</td>\n",
       "      <td>1.000000</td>\n",
       "      <td>0.689009</td>\n",
       "      <td>0.264520</td>\n",
       "      <td>-0.681521</td>\n",
       "      <td>0.241282</td>\n",
       "      <td>0.098693</td>\n",
       "    </tr>\n",
       "    <tr>\n",
       "      <th>shld</th>\n",
       "      <td>-0.591370</td>\n",
       "      <td>-0.386907</td>\n",
       "      <td>-0.104926</td>\n",
       "      <td>0.457307</td>\n",
       "      <td>0.006135</td>\n",
       "      <td>-0.124103</td>\n",
       "      <td>0.689009</td>\n",
       "      <td>1.000000</td>\n",
       "      <td>0.481771</td>\n",
       "      <td>-0.424951</td>\n",
       "      <td>0.375022</td>\n",
       "      <td>-0.042896</td>\n",
       "    </tr>\n",
       "    <tr>\n",
       "      <th>lane</th>\n",
       "      <td>-0.773467</td>\n",
       "      <td>-0.032979</td>\n",
       "      <td>-0.202504</td>\n",
       "      <td>0.823930</td>\n",
       "      <td>-0.153324</td>\n",
       "      <td>0.263967</td>\n",
       "      <td>0.264520</td>\n",
       "      <td>0.481771</td>\n",
       "      <td>1.000000</td>\n",
       "      <td>-0.208779</td>\n",
       "      <td>0.697913</td>\n",
       "      <td>0.095723</td>\n",
       "    </tr>\n",
       "    <tr>\n",
       "      <th>acpt</th>\n",
       "      <td>0.281647</td>\n",
       "      <td>0.752025</td>\n",
       "      <td>-0.238706</td>\n",
       "      <td>-0.223980</td>\n",
       "      <td>-0.360266</td>\n",
       "      <td>0.513461</td>\n",
       "      <td>-0.681521</td>\n",
       "      <td>-0.424951</td>\n",
       "      <td>-0.208779</td>\n",
       "      <td>1.000000</td>\n",
       "      <td>-0.200158</td>\n",
       "      <td>-0.042013</td>\n",
       "    </tr>\n",
       "    <tr>\n",
       "      <th>itg</th>\n",
       "      <td>-0.726426</td>\n",
       "      <td>-0.024841</td>\n",
       "      <td>-0.247562</td>\n",
       "      <td>0.903701</td>\n",
       "      <td>-0.067231</td>\n",
       "      <td>0.087017</td>\n",
       "      <td>0.241282</td>\n",
       "      <td>0.375022</td>\n",
       "      <td>0.697913</td>\n",
       "      <td>-0.200158</td>\n",
       "      <td>1.000000</td>\n",
       "      <td>0.102883</td>\n",
       "    </tr>\n",
       "    <tr>\n",
       "      <th>lwid</th>\n",
       "      <td>-0.227827</td>\n",
       "      <td>-0.005619</td>\n",
       "      <td>-0.310650</td>\n",
       "      <td>0.127878</td>\n",
       "      <td>-0.155271</td>\n",
       "      <td>0.062084</td>\n",
       "      <td>0.098693</td>\n",
       "      <td>-0.042896</td>\n",
       "      <td>0.095723</td>\n",
       "      <td>-0.042013</td>\n",
       "      <td>0.102883</td>\n",
       "      <td>1.000000</td>\n",
       "    </tr>\n",
       "  </tbody>\n",
       "</table>\n",
       "</div>"
      ],
      "text/plain": [
       "            Unnamed: 0      rate       len       ADT      trks     sigs1  \\\n",
       "Unnamed: 0    1.000000  0.032470  0.362779 -0.846241  0.104887 -0.286362   \n",
       "rate          0.032470  1.000000 -0.465290 -0.028570 -0.512522  0.603191   \n",
       "len           0.362779 -0.465290  1.000000 -0.271569  0.495943 -0.391851   \n",
       "ADT          -0.846241 -0.028570 -0.271569  1.000000 -0.096682  0.159381   \n",
       "trks          0.104887 -0.512522  0.495943 -0.096682  1.000000 -0.475308   \n",
       "sigs1        -0.286362  0.603191 -0.391851  0.159381 -0.475308  1.000000   \n",
       "slim         -0.292009 -0.680984  0.186243  0.244157  0.296184 -0.424415   \n",
       "shld         -0.591370 -0.386907 -0.104926  0.457307  0.006135 -0.124103   \n",
       "lane         -0.773467 -0.032979 -0.202504  0.823930 -0.153324  0.263967   \n",
       "acpt          0.281647  0.752025 -0.238706 -0.223980 -0.360266  0.513461   \n",
       "itg          -0.726426 -0.024841 -0.247562  0.903701 -0.067231  0.087017   \n",
       "lwid         -0.227827 -0.005619 -0.310650  0.127878 -0.155271  0.062084   \n",
       "\n",
       "                slim      shld      lane      acpt       itg      lwid  \n",
       "Unnamed: 0 -0.292009 -0.591370 -0.773467  0.281647 -0.726426 -0.227827  \n",
       "rate       -0.680984 -0.386907 -0.032979  0.752025 -0.024841 -0.005619  \n",
       "len         0.186243 -0.104926 -0.202504 -0.238706 -0.247562 -0.310650  \n",
       "ADT         0.244157  0.457307  0.823930 -0.223980  0.903701  0.127878  \n",
       "trks        0.296184  0.006135 -0.153324 -0.360266 -0.067231 -0.155271  \n",
       "sigs1      -0.424415 -0.124103  0.263967  0.513461  0.087017  0.062084  \n",
       "slim        1.000000  0.689009  0.264520 -0.681521  0.241282  0.098693  \n",
       "shld        0.689009  1.000000  0.481771 -0.424951  0.375022 -0.042896  \n",
       "lane        0.264520  0.481771  1.000000 -0.208779  0.697913  0.095723  \n",
       "acpt       -0.681521 -0.424951 -0.208779  1.000000 -0.200158 -0.042013  \n",
       "itg         0.241282  0.375022  0.697913 -0.200158  1.000000  0.102883  \n",
       "lwid        0.098693 -0.042896  0.095723 -0.042013  0.102883  1.000000  "
      ]
     },
     "execution_count": 115,
     "metadata": {},
     "output_type": "execute_result"
    }
   ],
   "source": [
    "hdata.corr()"
   ]
  },
  {
   "cell_type": "code",
   "execution_count": 116,
   "metadata": {},
   "outputs": [],
   "source": [
    "xx= hdata[['len', 'slim', 'acpt']]\n",
    "y= hdata.rate"
   ]
  },
  {
   "cell_type": "code",
   "execution_count": 117,
   "metadata": {},
   "outputs": [],
   "source": [
    "from sklearn.model_selection import train_test_split"
   ]
  },
  {
   "cell_type": "code",
   "execution_count": 118,
   "metadata": {},
   "outputs": [],
   "source": [
    "xtrain, xtest, ytrain, ytest = train_test_split(xx, y, test_size=0.2,random_state=4)"
   ]
  },
  {
   "cell_type": "code",
   "execution_count": 119,
   "metadata": {},
   "outputs": [
    {
     "data": {
      "text/plain": [
       "(31, 3)"
      ]
     },
     "execution_count": 119,
     "metadata": {},
     "output_type": "execute_result"
    }
   ],
   "source": [
    "xtrain.shape"
   ]
  },
  {
   "cell_type": "code",
   "execution_count": 120,
   "metadata": {},
   "outputs": [
    {
     "data": {
      "text/plain": [
       "(8, 3)"
      ]
     },
     "execution_count": 120,
     "metadata": {},
     "output_type": "execute_result"
    }
   ],
   "source": [
    "xtest.shape"
   ]
  },
  {
   "cell_type": "code",
   "execution_count": 121,
   "metadata": {},
   "outputs": [
    {
     "data": {
      "text/plain": [
       "(31,)"
      ]
     },
     "execution_count": 121,
     "metadata": {},
     "output_type": "execute_result"
    }
   ],
   "source": [
    "ytrain.shape"
   ]
  },
  {
   "cell_type": "code",
   "execution_count": 122,
   "metadata": {},
   "outputs": [
    {
     "data": {
      "text/plain": [
       "(8,)"
      ]
     },
     "execution_count": 122,
     "metadata": {},
     "output_type": "execute_result"
    }
   ],
   "source": [
    "ytest.shape"
   ]
  },
  {
   "cell_type": "code",
   "execution_count": 123,
   "metadata": {},
   "outputs": [
    {
     "data": {
      "text/html": [
       "<table class=\"simpletable\">\n",
       "<caption>OLS Regression Results</caption>\n",
       "<tr>\n",
       "  <th>Dep. Variable:</th>          <td>rate</td>       <th>  R-squared:         </th> <td>   0.717</td>\n",
       "</tr>\n",
       "<tr>\n",
       "  <th>Model:</th>                   <td>OLS</td>       <th>  Adj. R-squared:    </th> <td>   0.686</td>\n",
       "</tr>\n",
       "<tr>\n",
       "  <th>Method:</th>             <td>Least Squares</td>  <th>  F-statistic:       </th> <td>   22.80</td>\n",
       "</tr>\n",
       "<tr>\n",
       "  <th>Date:</th>             <td>Mon, 08 Nov 2021</td> <th>  Prob (F-statistic):</th> <td>1.45e-07</td>\n",
       "</tr>\n",
       "<tr>\n",
       "  <th>Time:</th>                 <td>14:17:54</td>     <th>  Log-Likelihood:    </th> <td> -44.278</td>\n",
       "</tr>\n",
       "<tr>\n",
       "  <th>No. Observations:</th>      <td>    31</td>      <th>  AIC:               </th> <td>   96.56</td>\n",
       "</tr>\n",
       "<tr>\n",
       "  <th>Df Residuals:</th>          <td>    27</td>      <th>  BIC:               </th> <td>   102.3</td>\n",
       "</tr>\n",
       "<tr>\n",
       "  <th>Df Model:</th>              <td>     3</td>      <th>                     </th>     <td> </td>   \n",
       "</tr>\n",
       "<tr>\n",
       "  <th>Covariance Type:</th>      <td>nonrobust</td>    <th>                     </th>     <td> </td>   \n",
       "</tr>\n",
       "</table>\n",
       "<table class=\"simpletable\">\n",
       "<tr>\n",
       "    <td></td>       <th>coef</th>     <th>std err</th>      <th>t</th>      <th>P>|t|</th>  <th>[0.025</th>    <th>0.975]</th>  \n",
       "</tr>\n",
       "<tr>\n",
       "  <th>const</th> <td>    6.4962</td> <td>    3.173</td> <td>    2.047</td> <td> 0.050</td> <td>   -0.015</td> <td>   13.008</td>\n",
       "</tr>\n",
       "<tr>\n",
       "  <th>len</th>   <td>   -0.0650</td> <td>    0.025</td> <td>   -2.573</td> <td> 0.016</td> <td>   -0.117</td> <td>   -0.013</td>\n",
       "</tr>\n",
       "<tr>\n",
       "  <th>slim</th>  <td>   -0.0586</td> <td>    0.052</td> <td>   -1.128</td> <td> 0.269</td> <td>   -0.165</td> <td>    0.048</td>\n",
       "</tr>\n",
       "<tr>\n",
       "  <th>acpt</th>  <td>    0.1197</td> <td>    0.029</td> <td>    4.199</td> <td> 0.000</td> <td>    0.061</td> <td>    0.178</td>\n",
       "</tr>\n",
       "</table>\n",
       "<table class=\"simpletable\">\n",
       "<tr>\n",
       "  <th>Omnibus:</th>       <td> 0.426</td> <th>  Durbin-Watson:     </th> <td>   1.711</td>\n",
       "</tr>\n",
       "<tr>\n",
       "  <th>Prob(Omnibus):</th> <td> 0.808</td> <th>  Jarque-Bera (JB):  </th> <td>   0.564</td>\n",
       "</tr>\n",
       "<tr>\n",
       "  <th>Skew:</th>          <td> 0.095</td> <th>  Prob(JB):          </th> <td>   0.754</td>\n",
       "</tr>\n",
       "<tr>\n",
       "  <th>Kurtosis:</th>      <td> 2.367</td> <th>  Cond. No.          </th> <td>    948.</td>\n",
       "</tr>\n",
       "</table><br/><br/>Warnings:<br/>[1] Standard Errors assume that the covariance matrix of the errors is correctly specified."
      ],
      "text/plain": [
       "<class 'statsmodels.iolib.summary.Summary'>\n",
       "\"\"\"\n",
       "                            OLS Regression Results                            \n",
       "==============================================================================\n",
       "Dep. Variable:                   rate   R-squared:                       0.717\n",
       "Model:                            OLS   Adj. R-squared:                  0.686\n",
       "Method:                 Least Squares   F-statistic:                     22.80\n",
       "Date:                Mon, 08 Nov 2021   Prob (F-statistic):           1.45e-07\n",
       "Time:                        14:17:54   Log-Likelihood:                -44.278\n",
       "No. Observations:                  31   AIC:                             96.56\n",
       "Df Residuals:                      27   BIC:                             102.3\n",
       "Df Model:                           3                                         \n",
       "Covariance Type:            nonrobust                                         \n",
       "==============================================================================\n",
       "                 coef    std err          t      P>|t|      [0.025      0.975]\n",
       "------------------------------------------------------------------------------\n",
       "const          6.4962      3.173      2.047      0.050      -0.015      13.008\n",
       "len           -0.0650      0.025     -2.573      0.016      -0.117      -0.013\n",
       "slim          -0.0586      0.052     -1.128      0.269      -0.165       0.048\n",
       "acpt           0.1197      0.029      4.199      0.000       0.061       0.178\n",
       "==============================================================================\n",
       "Omnibus:                        0.426   Durbin-Watson:                   1.711\n",
       "Prob(Omnibus):                  0.808   Jarque-Bera (JB):                0.564\n",
       "Skew:                           0.095   Prob(JB):                        0.754\n",
       "Kurtosis:                       2.367   Cond. No.                         948.\n",
       "==============================================================================\n",
       "\n",
       "Warnings:\n",
       "[1] Standard Errors assume that the covariance matrix of the errors is correctly specified.\n",
       "\"\"\""
      ]
     },
     "execution_count": 123,
     "metadata": {},
     "output_type": "execute_result"
    }
   ],
   "source": [
    "modelxx=sm.OLS(ytrain,sm.add_constant(xtrain)).fit()\n",
    "modelxx.summary()"
   ]
  },
  {
   "cell_type": "code",
   "execution_count": 124,
   "metadata": {},
   "outputs": [],
   "source": [
    "ypred =modelxx.predict(sm.add_constant(xtest))"
   ]
  },
  {
   "cell_type": "code",
   "execution_count": 125,
   "metadata": {},
   "outputs": [
    {
     "data": {
      "text/html": [
       "<div>\n",
       "<style scoped>\n",
       "    .dataframe tbody tr th:only-of-type {\n",
       "        vertical-align: middle;\n",
       "    }\n",
       "\n",
       "    .dataframe tbody tr th {\n",
       "        vertical-align: top;\n",
       "    }\n",
       "\n",
       "    .dataframe thead th {\n",
       "        text-align: right;\n",
       "    }\n",
       "</style>\n",
       "<table border=\"1\" class=\"dataframe\">\n",
       "  <thead>\n",
       "    <tr style=\"text-align: right;\">\n",
       "      <th></th>\n",
       "      <th>len</th>\n",
       "      <th>slim</th>\n",
       "      <th>acpt</th>\n",
       "    </tr>\n",
       "  </thead>\n",
       "  <tbody>\n",
       "    <tr>\n",
       "      <th>0</th>\n",
       "      <td>4.99</td>\n",
       "      <td>55</td>\n",
       "      <td>4.6</td>\n",
       "    </tr>\n",
       "    <tr>\n",
       "      <th>1</th>\n",
       "      <td>16.11</td>\n",
       "      <td>60</td>\n",
       "      <td>4.4</td>\n",
       "    </tr>\n",
       "    <tr>\n",
       "      <th>2</th>\n",
       "      <td>9.75</td>\n",
       "      <td>60</td>\n",
       "      <td>4.7</td>\n",
       "    </tr>\n",
       "    <tr>\n",
       "      <th>3</th>\n",
       "      <td>10.65</td>\n",
       "      <td>65</td>\n",
       "      <td>3.8</td>\n",
       "    </tr>\n",
       "    <tr>\n",
       "      <th>4</th>\n",
       "      <td>20.01</td>\n",
       "      <td>70</td>\n",
       "      <td>2.2</td>\n",
       "    </tr>\n",
       "  </tbody>\n",
       "</table>\n",
       "</div>"
      ],
      "text/plain": [
       "     len  slim  acpt\n",
       "0   4.99    55   4.6\n",
       "1  16.11    60   4.4\n",
       "2   9.75    60   4.7\n",
       "3  10.65    65   3.8\n",
       "4  20.01    70   2.2"
      ]
     },
     "execution_count": 125,
     "metadata": {},
     "output_type": "execute_result"
    }
   ],
   "source": [
    "xx.head()"
   ]
  },
  {
   "cell_type": "code",
   "execution_count": 126,
   "metadata": {},
   "outputs": [
    {
     "data": {
      "text/plain": [
       "0    4.58\n",
       "1    2.86\n",
       "2    3.02\n",
       "3    2.29\n",
       "4    1.61\n",
       "Name: rate, dtype: float64"
      ]
     },
     "execution_count": 126,
     "metadata": {},
     "output_type": "execute_result"
    }
   ],
   "source": [
    "y.head()"
   ]
  },
  {
   "cell_type": "code",
   "execution_count": 127,
   "metadata": {},
   "outputs": [
    {
     "data": {
      "text/plain": [
       "4     1.355443\n",
       "16    3.660339\n",
       "11    4.043018\n",
       "38    3.678161\n",
       "25    5.719796\n",
       "12    5.034177\n",
       "27    4.490707\n",
       "7     5.146614\n",
       "dtype: float64"
      ]
     },
     "execution_count": 127,
     "metadata": {},
     "output_type": "execute_result"
    }
   ],
   "source": [
    "ypred"
   ]
  },
  {
   "cell_type": "code",
   "execution_count": 128,
   "metadata": {},
   "outputs": [
    {
     "data": {
      "text/plain": [
       "4     1.61\n",
       "16    2.01\n",
       "11    4.61\n",
       "38    4.12\n",
       "25    8.60\n",
       "12    4.80\n",
       "27    2.93\n",
       "7     6.12\n",
       "Name: rate, dtype: float64"
      ]
     },
     "execution_count": 128,
     "metadata": {},
     "output_type": "execute_result"
    }
   ],
   "source": [
    "ytest"
   ]
  },
  {
   "cell_type": "code",
   "execution_count": 129,
   "metadata": {},
   "outputs": [
    {
     "data": {
      "text/plain": [
       "0.588180982796005"
      ]
     },
     "execution_count": 129,
     "metadata": {},
     "output_type": "execute_result"
    }
   ],
   "source": [
    "from sklearn.metrics import r2_score\n",
    "r2_score(ytest, ypred)"
   ]
  },
  {
   "cell_type": "code",
   "execution_count": 130,
   "metadata": {},
   "outputs": [
    {
     "data": {
      "text/plain": [
       "0.6907932595186062"
      ]
     },
     "execution_count": 130,
     "metadata": {},
     "output_type": "execute_result"
    }
   ],
   "source": [
    "adjrsquared = 1-(1-0.7217139335667455)* (31-1)/(31-3-1)\n",
    "adjrsquared "
   ]
  },
  {
   "cell_type": "code",
   "execution_count": 132,
   "metadata": {},
   "outputs": [
    {
     "data": {
      "text/plain": [
       "Index(['Unnamed: 0', 'rate', 'len', 'ADT', 'trks', 'sigs1', 'slim', 'shld',\n",
       "       'lane', 'acpt', 'itg', 'lwid', 'hwy'],\n",
       "      dtype='object')"
      ]
     },
     "execution_count": 132,
     "metadata": {},
     "output_type": "execute_result"
    }
   ],
   "source": [
    "hdata.columns"
   ]
  },
  {
   "cell_type": "code",
   "execution_count": 133,
   "metadata": {},
   "outputs": [
    {
     "data": {
      "text/html": [
       "<div>\n",
       "<style scoped>\n",
       "    .dataframe tbody tr th:only-of-type {\n",
       "        vertical-align: middle;\n",
       "    }\n",
       "\n",
       "    .dataframe tbody tr th {\n",
       "        vertical-align: top;\n",
       "    }\n",
       "\n",
       "    .dataframe thead th {\n",
       "        text-align: right;\n",
       "    }\n",
       "</style>\n",
       "<table border=\"1\" class=\"dataframe\">\n",
       "  <thead>\n",
       "    <tr style=\"text-align: right;\">\n",
       "      <th></th>\n",
       "      <th>Unnamed: 0</th>\n",
       "      <th>rate</th>\n",
       "      <th>len</th>\n",
       "      <th>ADT</th>\n",
       "      <th>trks</th>\n",
       "      <th>sigs1</th>\n",
       "      <th>slim</th>\n",
       "      <th>shld</th>\n",
       "      <th>lane</th>\n",
       "      <th>acpt</th>\n",
       "      <th>itg</th>\n",
       "      <th>lwid</th>\n",
       "      <th>hwy</th>\n",
       "    </tr>\n",
       "  </thead>\n",
       "  <tbody>\n",
       "    <tr>\n",
       "      <th>0</th>\n",
       "      <td>1</td>\n",
       "      <td>4.58</td>\n",
       "      <td>4.99</td>\n",
       "      <td>69</td>\n",
       "      <td>8</td>\n",
       "      <td>0.200401</td>\n",
       "      <td>55</td>\n",
       "      <td>10</td>\n",
       "      <td>8</td>\n",
       "      <td>4.6</td>\n",
       "      <td>1.20</td>\n",
       "      <td>12</td>\n",
       "      <td>FAI</td>\n",
       "    </tr>\n",
       "    <tr>\n",
       "      <th>1</th>\n",
       "      <td>2</td>\n",
       "      <td>2.86</td>\n",
       "      <td>16.11</td>\n",
       "      <td>73</td>\n",
       "      <td>8</td>\n",
       "      <td>0.062073</td>\n",
       "      <td>60</td>\n",
       "      <td>10</td>\n",
       "      <td>4</td>\n",
       "      <td>4.4</td>\n",
       "      <td>1.43</td>\n",
       "      <td>12</td>\n",
       "      <td>FAI</td>\n",
       "    </tr>\n",
       "    <tr>\n",
       "      <th>2</th>\n",
       "      <td>3</td>\n",
       "      <td>3.02</td>\n",
       "      <td>9.75</td>\n",
       "      <td>49</td>\n",
       "      <td>10</td>\n",
       "      <td>0.102564</td>\n",
       "      <td>60</td>\n",
       "      <td>10</td>\n",
       "      <td>4</td>\n",
       "      <td>4.7</td>\n",
       "      <td>1.54</td>\n",
       "      <td>12</td>\n",
       "      <td>FAI</td>\n",
       "    </tr>\n",
       "    <tr>\n",
       "      <th>3</th>\n",
       "      <td>4</td>\n",
       "      <td>2.29</td>\n",
       "      <td>10.65</td>\n",
       "      <td>61</td>\n",
       "      <td>13</td>\n",
       "      <td>0.093897</td>\n",
       "      <td>65</td>\n",
       "      <td>10</td>\n",
       "      <td>6</td>\n",
       "      <td>3.8</td>\n",
       "      <td>0.94</td>\n",
       "      <td>12</td>\n",
       "      <td>FAI</td>\n",
       "    </tr>\n",
       "    <tr>\n",
       "      <th>4</th>\n",
       "      <td>5</td>\n",
       "      <td>1.61</td>\n",
       "      <td>20.01</td>\n",
       "      <td>28</td>\n",
       "      <td>12</td>\n",
       "      <td>0.049975</td>\n",
       "      <td>70</td>\n",
       "      <td>10</td>\n",
       "      <td>4</td>\n",
       "      <td>2.2</td>\n",
       "      <td>0.65</td>\n",
       "      <td>12</td>\n",
       "      <td>FAI</td>\n",
       "    </tr>\n",
       "  </tbody>\n",
       "</table>\n",
       "</div>"
      ],
      "text/plain": [
       "   Unnamed: 0  rate    len  ADT  trks     sigs1  slim  shld  lane  acpt   itg  \\\n",
       "0           1  4.58   4.99   69     8  0.200401    55    10     8   4.6  1.20   \n",
       "1           2  2.86  16.11   73     8  0.062073    60    10     4   4.4  1.43   \n",
       "2           3  3.02   9.75   49    10  0.102564    60    10     4   4.7  1.54   \n",
       "3           4  2.29  10.65   61    13  0.093897    65    10     6   3.8  0.94   \n",
       "4           5  1.61  20.01   28    12  0.049975    70    10     4   2.2  0.65   \n",
       "\n",
       "   lwid  hwy  \n",
       "0    12  FAI  \n",
       "1    12  FAI  \n",
       "2    12  FAI  \n",
       "3    12  FAI  \n",
       "4    12  FAI  "
      ]
     },
     "execution_count": 133,
     "metadata": {},
     "output_type": "execute_result"
    }
   ],
   "source": [
    "hdata.head(5)"
   ]
  },
  {
   "cell_type": "code",
   "execution_count": null,
   "metadata": {},
   "outputs": [],
   "source": [
    "newh = hdata[['rate', 'len', 'ADT', 'trks', 'sigs1', 'slim', 'shld',\n",
    "       'lane', 'acpt', 'itg', 'lwid', 'hwy']]\n",
    "newh.head(5)"
   ]
  },
  {
   "cell_type": "code",
   "execution_count": 136,
   "metadata": {},
   "outputs": [
    {
     "name": "stdout",
     "output_type": "stream",
     "text": [
      "  Features      Score\n",
      "7     acpt  48.163644\n",
      "4     slim  31.996215\n",
      "3    sigs1  21.161369\n"
     ]
    }
   ],
   "source": [
    "from sklearn.feature_selection import SelectKBest\n",
    "from sklearn.feature_selection import chi2, f_regression\n",
    "X = newh[[ 'len', 'ADT', 'trks', 'sigs1', 'slim', 'shld','lane', \n",
    "          'acpt', 'itg', 'lwid']]  #independent columns\n",
    "y = newh.rate    #target column i.e price range\n",
    "#apply SelectKBest class to extract top 10 best features\n",
    "bestfeatures = SelectKBest(score_func=f_regression,k=4)\n",
    "fit = bestfeatures.fit(X,y)\n",
    "dfscores = pd.DataFrame(fit.scores_)\n",
    "dfcolumns = pd.DataFrame(X.columns)\n",
    "#concat two dataframes for better visualization \n",
    "featureScores = pd.concat([dfcolumns,dfscores],axis=1)\n",
    "featureScores.columns = ['Features','Score']  #naming the dataframe columns\n",
    "print(featureScores.nlargest(3,'Score'))  #print 4 best features"
   ]
  },
  {
   "cell_type": "code",
   "execution_count": 137,
   "metadata": {},
   "outputs": [],
   "source": [
    "x= newh[['acpt', 'slim', 'sigs1']]\n",
    "y= newh.rate"
   ]
  },
  {
   "cell_type": "code",
   "execution_count": 149,
   "metadata": {},
   "outputs": [],
   "source": [
    "from sklearn.model_selection import train_test_split\n",
    "xtrain, xtest, ytrain, ytest = train_test_split(x, y, test_size=0.2\n",
    "                                                ,random_state=4)"
   ]
  },
  {
   "cell_type": "code",
   "execution_count": 150,
   "metadata": {},
   "outputs": [
    {
     "data": {
      "text/plain": [
       "array([1.73624763, 3.28647794, 4.4851503 , 3.3839067 , 5.36939832,\n",
       "       4.58029642, 4.25870457, 4.58883023])"
      ]
     },
     "execution_count": 150,
     "metadata": {},
     "output_type": "execute_result"
    }
   ],
   "source": [
    "from sklearn.linear_model import LinearRegression\n",
    "RLR = LinearRegression().fit(xtrain, ytrain)\n",
    "LRtrainpred = RLR.predict(xtrain)\n",
    "LRtestpred = RLR.predict(xtest)\n",
    "LRtestpred"
   ]
  },
  {
   "cell_type": "code",
   "execution_count": 151,
   "metadata": {},
   "outputs": [
    {
     "name": "stdout",
     "output_type": "stream",
     "text": [
      "RLR train vs test MAE: 0.8698987040968396 1.0717310199627161\n"
     ]
    }
   ],
   "source": [
    "import sklearn.metrics as metrics\n",
    "trainmae = metrics.mean_absolute_error(ytrain, LRtrainpred)\n",
    "testmae = metrics.mean_absolute_error(ytest, LRtestpred)\n",
    "trainmse = metrics.mean_squared_error(ytrain, LRtrainpred)\n",
    "testmse = metrics.mean_squared_error(ytest, LRtestpred) \n",
    "trainr2 = metrics.r2_score(ytrain, LRtrainpred)\n",
    "testr2 = metrics.r2_score(ytest, LRtestpred)\n",
    "print(\"RLR train vs test MAE:\", trainmae, testmae)"
   ]
  },
  {
   "cell_type": "code",
   "execution_count": 152,
   "metadata": {},
   "outputs": [
    {
     "name": "stdout",
     "output_type": "stream",
     "text": [
      "RLR train vs test MSE: 1.126976332125979 2.0997185923493253\n"
     ]
    }
   ],
   "source": [
    "print(\"RLR train vs test MSE:\",trainmse, testmse)"
   ]
  },
  {
   "cell_type": "code",
   "execution_count": 153,
   "metadata": {},
   "outputs": [
    {
     "name": "stdout",
     "output_type": "stream",
     "text": [
      "RLR train vs test R^2: 0.6870092273933488 0.5400145479271975\n"
     ]
    }
   ],
   "source": [
    "print(\"RLR train vs test R^2:\",trainr2, testr2)"
   ]
  },
  {
   "cell_type": "code",
   "execution_count": 156,
   "metadata": {},
   "outputs": [],
   "source": [
    "from sklearn.tree import DecisionTreeRegressor\n",
    "DTR = DecisionTreeRegressor().fit(xtrain, ytrain)\n",
    "DTRtrainpred = DTR.predict(xtrain)\n",
    "DTRtestpred = DTR.predict(xtest)"
   ]
  },
  {
   "cell_type": "code",
   "execution_count": 157,
   "metadata": {},
   "outputs": [
    {
     "name": "stdout",
     "output_type": "stream",
     "text": [
      "DTR train vs test MAE: 0.0 1.59625\n"
     ]
    }
   ],
   "source": [
    "DTRtrainmae = metrics.mean_absolute_error(ytrain, DTRtrainpred)\n",
    "DTRtestmae = metrics.mean_absolute_error(ytest, DTRtestpred)\n",
    "print(\"DTR train vs test MAE:\",DTRtrainmae, DTRtestmae)"
   ]
  },
  {
   "cell_type": "code",
   "execution_count": 158,
   "metadata": {},
   "outputs": [
    {
     "name": "stdout",
     "output_type": "stream",
     "text": [
      "RLR train vs test MSE: 0.0 3.8657375000000007\n"
     ]
    }
   ],
   "source": [
    "DTRtrainmse = metrics.mean_squared_error(ytrain, DTRtrainpred)\n",
    "DTRtestmse = metrics.mean_squared_error(ytest, DTRtestpred) \n",
    "print(\"RLR train vs test MSE:\", DTRtrainmse, DTRtestmse)"
   ]
  },
  {
   "cell_type": "code",
   "execution_count": 159,
   "metadata": {},
   "outputs": [
    {
     "name": "stdout",
     "output_type": "stream",
     "text": [
      "RLR train vs test R^2: 1.0 0.1531327016813625\n"
     ]
    }
   ],
   "source": [
    "DTRtrainr2 = metrics.r2_score(ytrain, DTRtrainpred)\n",
    "DTRtestr2 = metrics.r2_score(ytest, DTRtestpred)\n",
    "print(\"RLR train vs test R^2:\",DTRtrainr2, DTRtestr2)"
   ]
  },
  {
   "cell_type": "code",
   "execution_count": 160,
   "metadata": {},
   "outputs": [],
   "source": [
    "from sklearn.ensemble import RandomForestRegressor\n",
    "RF = RandomForestRegressor(n_estimators = 100, random_state = 1)\n",
    "RFR = RF.fit(xtrain, ytrain)\n",
    "RFRtrainpred = RFR.predict(xtrain)\n",
    "RFRtestpred = RFR.predict(xtest)"
   ]
  },
  {
   "cell_type": "code",
   "execution_count": 161,
   "metadata": {},
   "outputs": [
    {
     "name": "stdout",
     "output_type": "stream",
     "text": [
      "RFR train vs test MAE: 0.32887096774193536 1.2403625000000007\n"
     ]
    }
   ],
   "source": [
    "RFRtrainmae = metrics.mean_absolute_error(ytrain, RFRtrainpred)\n",
    "RFRtestmae = metrics.mean_absolute_error(ytest, RFRtestpred)\n",
    "RFRtrainmse = metrics.mean_squared_error(ytrain, RFRtrainpred)\n",
    "RFRtestmse = metrics.mean_squared_error(ytest, RFRtestpred) \n",
    "RFRtrainr2 = metrics.r2_score(ytrain, RFRtrainpred)\n",
    "RFRtestr2 = metrics.r2_score(ytest, RFRtestpred)\n",
    "print(\"RFR train vs test MAE:\", RFRtrainmae, RFRtestmae)"
   ]
  },
  {
   "cell_type": "code",
   "execution_count": 162,
   "metadata": {},
   "outputs": [
    {
     "name": "stdout",
     "output_type": "stream",
     "text": [
      "RLR train vs test MSE: 0.18251648387096778 2.0506776237500013\n"
     ]
    }
   ],
   "source": [
    "print(\"RLR train vs test MSE:\",RFRtrainmse, RFRtestmse)"
   ]
  },
  {
   "cell_type": "code",
   "execution_count": 163,
   "metadata": {},
   "outputs": [
    {
     "name": "stdout",
     "output_type": "stream",
     "text": [
      "RLR train vs test R^2: 0.9493104037132185 0.5507579552549424\n"
     ]
    }
   ],
   "source": [
    "print(\"RLR train vs test R^2:\",RFRtrainr2, RFRtestr2)"
   ]
  },
  {
   "cell_type": "code",
   "execution_count": null,
   "metadata": {},
   "outputs": [],
   "source": []
  }
 ],
 "metadata": {
  "kernelspec": {
   "display_name": "Python 3",
   "language": "python",
   "name": "python3"
  },
  "language_info": {
   "codemirror_mode": {
    "name": "ipython",
    "version": 3
   },
   "file_extension": ".py",
   "mimetype": "text/x-python",
   "name": "python",
   "nbconvert_exporter": "python",
   "pygments_lexer": "ipython3",
   "version": "3.8.8"
  }
 },
 "nbformat": 4,
 "nbformat_minor": 2
}
